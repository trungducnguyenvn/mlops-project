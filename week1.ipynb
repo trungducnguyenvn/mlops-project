{
 "cells": [
  {
   "cell_type": "code",
   "execution_count": null,
   "metadata": {},
   "outputs": [],
   "source": [
    "# %%bash\n",
    "# wget https://d37ci6vzurychx.cloudfront.net/trip-data/yellow_tripdata_2022-02.parquet"
   ]
  },
  {
   "cell_type": "code",
   "execution_count": 1,
   "metadata": {},
   "outputs": [],
   "source": [
    "import pandas as pd\n",
    "\n",
    "from sklearn.linear_model import LinearRegression\n",
    "from sklearn.metrics import mean_squared_error\n"
   ]
  },
  {
   "cell_type": "code",
   "execution_count": 2,
   "metadata": {},
   "outputs": [],
   "source": [
    "#Read 2 parquet files into dataframes\n",
    "df1 = pd.read_parquet('./data/yellow_tripdata_2022-01.parquet')\n",
    "df2 = pd.read_parquet('./data/yellow_tripdata_2022-02.parquet')\n"
   ]
  },
  {
   "cell_type": "code",
   "execution_count": 3,
   "metadata": {},
   "outputs": [
    {
     "data": {
      "text/html": [
       "<div>\n",
       "<style scoped>\n",
       "    .dataframe tbody tr th:only-of-type {\n",
       "        vertical-align: middle;\n",
       "    }\n",
       "\n",
       "    .dataframe tbody tr th {\n",
       "        vertical-align: top;\n",
       "    }\n",
       "\n",
       "    .dataframe thead th {\n",
       "        text-align: right;\n",
       "    }\n",
       "</style>\n",
       "<table border=\"1\" class=\"dataframe\">\n",
       "  <thead>\n",
       "    <tr style=\"text-align: right;\">\n",
       "      <th></th>\n",
       "      <th>VendorID</th>\n",
       "      <th>tpep_pickup_datetime</th>\n",
       "      <th>tpep_dropoff_datetime</th>\n",
       "      <th>passenger_count</th>\n",
       "      <th>trip_distance</th>\n",
       "      <th>RatecodeID</th>\n",
       "      <th>PULocationID</th>\n",
       "      <th>DOLocationID</th>\n",
       "      <th>payment_type</th>\n",
       "      <th>fare_amount</th>\n",
       "      <th>extra</th>\n",
       "      <th>mta_tax</th>\n",
       "      <th>tip_amount</th>\n",
       "      <th>tolls_amount</th>\n",
       "      <th>improvement_surcharge</th>\n",
       "      <th>total_amount</th>\n",
       "      <th>congestion_surcharge</th>\n",
       "      <th>airport_fee</th>\n",
       "    </tr>\n",
       "  </thead>\n",
       "  <tbody>\n",
       "    <tr>\n",
       "      <th>count</th>\n",
       "      <td>2.463931e+06</td>\n",
       "      <td>2463931</td>\n",
       "      <td>2463931</td>\n",
       "      <td>2.392428e+06</td>\n",
       "      <td>2.463931e+06</td>\n",
       "      <td>2.392428e+06</td>\n",
       "      <td>2.463931e+06</td>\n",
       "      <td>2.463931e+06</td>\n",
       "      <td>2.463931e+06</td>\n",
       "      <td>2.463931e+06</td>\n",
       "      <td>2.463931e+06</td>\n",
       "      <td>2.463931e+06</td>\n",
       "      <td>2.463931e+06</td>\n",
       "      <td>2.463931e+06</td>\n",
       "      <td>2.463931e+06</td>\n",
       "      <td>2.463931e+06</td>\n",
       "      <td>2.392428e+06</td>\n",
       "      <td>2.392428e+06</td>\n",
       "    </tr>\n",
       "    <tr>\n",
       "      <th>mean</th>\n",
       "      <td>1.707819e+00</td>\n",
       "      <td>2022-01-17 01:19:51.689726208</td>\n",
       "      <td>2022-01-17 01:34:04.421900544</td>\n",
       "      <td>1.389453e+00</td>\n",
       "      <td>5.372751e+00</td>\n",
       "      <td>1.415507e+00</td>\n",
       "      <td>1.660768e+02</td>\n",
       "      <td>1.635807e+02</td>\n",
       "      <td>1.194449e+00</td>\n",
       "      <td>1.294648e+01</td>\n",
       "      <td>1.006710e+00</td>\n",
       "      <td>4.914539e-01</td>\n",
       "      <td>2.385696e+00</td>\n",
       "      <td>3.749773e-01</td>\n",
       "      <td>2.967234e-01</td>\n",
       "      <td>1.916937e+01</td>\n",
       "      <td>2.282322e+00</td>\n",
       "      <td>8.249935e-02</td>\n",
       "    </tr>\n",
       "    <tr>\n",
       "      <th>min</th>\n",
       "      <td>1.000000e+00</td>\n",
       "      <td>2008-12-31 22:23:09</td>\n",
       "      <td>2008-12-31 23:06:56</td>\n",
       "      <td>0.000000e+00</td>\n",
       "      <td>0.000000e+00</td>\n",
       "      <td>1.000000e+00</td>\n",
       "      <td>1.000000e+00</td>\n",
       "      <td>1.000000e+00</td>\n",
       "      <td>0.000000e+00</td>\n",
       "      <td>-4.800000e+02</td>\n",
       "      <td>-4.500000e+00</td>\n",
       "      <td>-5.000000e-01</td>\n",
       "      <td>-1.252200e+02</td>\n",
       "      <td>-3.140000e+01</td>\n",
       "      <td>-3.000000e-01</td>\n",
       "      <td>-4.803000e+02</td>\n",
       "      <td>-2.500000e+00</td>\n",
       "      <td>-1.250000e+00</td>\n",
       "    </tr>\n",
       "    <tr>\n",
       "      <th>25%</th>\n",
       "      <td>1.000000e+00</td>\n",
       "      <td>2022-01-09 15:37:41</td>\n",
       "      <td>2022-01-09 15:50:50.500000</td>\n",
       "      <td>1.000000e+00</td>\n",
       "      <td>1.040000e+00</td>\n",
       "      <td>1.000000e+00</td>\n",
       "      <td>1.320000e+02</td>\n",
       "      <td>1.130000e+02</td>\n",
       "      <td>1.000000e+00</td>\n",
       "      <td>6.500000e+00</td>\n",
       "      <td>0.000000e+00</td>\n",
       "      <td>5.000000e-01</td>\n",
       "      <td>7.200000e-01</td>\n",
       "      <td>0.000000e+00</td>\n",
       "      <td>3.000000e-01</td>\n",
       "      <td>1.130000e+01</td>\n",
       "      <td>2.500000e+00</td>\n",
       "      <td>0.000000e+00</td>\n",
       "    </tr>\n",
       "    <tr>\n",
       "      <th>50%</th>\n",
       "      <td>2.000000e+00</td>\n",
       "      <td>2022-01-17 12:11:45</td>\n",
       "      <td>2022-01-17 12:23:49</td>\n",
       "      <td>1.000000e+00</td>\n",
       "      <td>1.740000e+00</td>\n",
       "      <td>1.000000e+00</td>\n",
       "      <td>1.620000e+02</td>\n",
       "      <td>1.620000e+02</td>\n",
       "      <td>1.000000e+00</td>\n",
       "      <td>9.000000e+00</td>\n",
       "      <td>5.000000e-01</td>\n",
       "      <td>5.000000e-01</td>\n",
       "      <td>2.000000e+00</td>\n",
       "      <td>0.000000e+00</td>\n",
       "      <td>3.000000e-01</td>\n",
       "      <td>1.469000e+01</td>\n",
       "      <td>2.500000e+00</td>\n",
       "      <td>0.000000e+00</td>\n",
       "    </tr>\n",
       "    <tr>\n",
       "      <th>75%</th>\n",
       "      <td>2.000000e+00</td>\n",
       "      <td>2022-01-24 13:49:37.500000</td>\n",
       "      <td>2022-01-24 14:02:51</td>\n",
       "      <td>1.000000e+00</td>\n",
       "      <td>3.130000e+00</td>\n",
       "      <td>1.000000e+00</td>\n",
       "      <td>2.340000e+02</td>\n",
       "      <td>2.360000e+02</td>\n",
       "      <td>1.000000e+00</td>\n",
       "      <td>1.400000e+01</td>\n",
       "      <td>2.500000e+00</td>\n",
       "      <td>5.000000e-01</td>\n",
       "      <td>3.000000e+00</td>\n",
       "      <td>0.000000e+00</td>\n",
       "      <td>3.000000e-01</td>\n",
       "      <td>2.002000e+01</td>\n",
       "      <td>2.500000e+00</td>\n",
       "      <td>0.000000e+00</td>\n",
       "    </tr>\n",
       "    <tr>\n",
       "      <th>max</th>\n",
       "      <td>6.000000e+00</td>\n",
       "      <td>2022-05-18 20:41:57</td>\n",
       "      <td>2022-05-18 20:47:45</td>\n",
       "      <td>9.000000e+00</td>\n",
       "      <td>3.061593e+05</td>\n",
       "      <td>9.900000e+01</td>\n",
       "      <td>2.650000e+02</td>\n",
       "      <td>2.650000e+02</td>\n",
       "      <td>5.000000e+00</td>\n",
       "      <td>4.010923e+05</td>\n",
       "      <td>3.350000e+01</td>\n",
       "      <td>1.659000e+01</td>\n",
       "      <td>8.888800e+02</td>\n",
       "      <td>1.933000e+02</td>\n",
       "      <td>3.000000e-01</td>\n",
       "      <td>4.010956e+05</td>\n",
       "      <td>2.500000e+00</td>\n",
       "      <td>1.250000e+00</td>\n",
       "    </tr>\n",
       "    <tr>\n",
       "      <th>std</th>\n",
       "      <td>5.021375e-01</td>\n",
       "      <td>NaN</td>\n",
       "      <td>NaN</td>\n",
       "      <td>9.829686e-01</td>\n",
       "      <td>5.478714e+02</td>\n",
       "      <td>5.917573e+00</td>\n",
       "      <td>6.546806e+01</td>\n",
       "      <td>7.079016e+01</td>\n",
       "      <td>5.001778e-01</td>\n",
       "      <td>2.558149e+02</td>\n",
       "      <td>1.236226e+00</td>\n",
       "      <td>8.291560e-02</td>\n",
       "      <td>2.830698e+00</td>\n",
       "      <td>1.680538e+00</td>\n",
       "      <td>4.374741e-02</td>\n",
       "      <td>2.559641e+02</td>\n",
       "      <td>7.432040e-01</td>\n",
       "      <td>3.125554e-01</td>\n",
       "    </tr>\n",
       "  </tbody>\n",
       "</table>\n",
       "</div>"
      ],
      "text/plain": [
       "           VendorID           tpep_pickup_datetime   \n",
       "count  2.463931e+06                        2463931  \\\n",
       "mean   1.707819e+00  2022-01-17 01:19:51.689726208   \n",
       "min    1.000000e+00            2008-12-31 22:23:09   \n",
       "25%    1.000000e+00            2022-01-09 15:37:41   \n",
       "50%    2.000000e+00            2022-01-17 12:11:45   \n",
       "75%    2.000000e+00     2022-01-24 13:49:37.500000   \n",
       "max    6.000000e+00            2022-05-18 20:41:57   \n",
       "std    5.021375e-01                            NaN   \n",
       "\n",
       "               tpep_dropoff_datetime  passenger_count  trip_distance   \n",
       "count                        2463931     2.392428e+06   2.463931e+06  \\\n",
       "mean   2022-01-17 01:34:04.421900544     1.389453e+00   5.372751e+00   \n",
       "min              2008-12-31 23:06:56     0.000000e+00   0.000000e+00   \n",
       "25%       2022-01-09 15:50:50.500000     1.000000e+00   1.040000e+00   \n",
       "50%              2022-01-17 12:23:49     1.000000e+00   1.740000e+00   \n",
       "75%              2022-01-24 14:02:51     1.000000e+00   3.130000e+00   \n",
       "max              2022-05-18 20:47:45     9.000000e+00   3.061593e+05   \n",
       "std                              NaN     9.829686e-01   5.478714e+02   \n",
       "\n",
       "         RatecodeID  PULocationID  DOLocationID  payment_type   fare_amount   \n",
       "count  2.392428e+06  2.463931e+06  2.463931e+06  2.463931e+06  2.463931e+06  \\\n",
       "mean   1.415507e+00  1.660768e+02  1.635807e+02  1.194449e+00  1.294648e+01   \n",
       "min    1.000000e+00  1.000000e+00  1.000000e+00  0.000000e+00 -4.800000e+02   \n",
       "25%    1.000000e+00  1.320000e+02  1.130000e+02  1.000000e+00  6.500000e+00   \n",
       "50%    1.000000e+00  1.620000e+02  1.620000e+02  1.000000e+00  9.000000e+00   \n",
       "75%    1.000000e+00  2.340000e+02  2.360000e+02  1.000000e+00  1.400000e+01   \n",
       "max    9.900000e+01  2.650000e+02  2.650000e+02  5.000000e+00  4.010923e+05   \n",
       "std    5.917573e+00  6.546806e+01  7.079016e+01  5.001778e-01  2.558149e+02   \n",
       "\n",
       "              extra       mta_tax    tip_amount  tolls_amount   \n",
       "count  2.463931e+06  2.463931e+06  2.463931e+06  2.463931e+06  \\\n",
       "mean   1.006710e+00  4.914539e-01  2.385696e+00  3.749773e-01   \n",
       "min   -4.500000e+00 -5.000000e-01 -1.252200e+02 -3.140000e+01   \n",
       "25%    0.000000e+00  5.000000e-01  7.200000e-01  0.000000e+00   \n",
       "50%    5.000000e-01  5.000000e-01  2.000000e+00  0.000000e+00   \n",
       "75%    2.500000e+00  5.000000e-01  3.000000e+00  0.000000e+00   \n",
       "max    3.350000e+01  1.659000e+01  8.888800e+02  1.933000e+02   \n",
       "std    1.236226e+00  8.291560e-02  2.830698e+00  1.680538e+00   \n",
       "\n",
       "       improvement_surcharge  total_amount  congestion_surcharge   airport_fee  \n",
       "count           2.463931e+06  2.463931e+06          2.392428e+06  2.392428e+06  \n",
       "mean            2.967234e-01  1.916937e+01          2.282322e+00  8.249935e-02  \n",
       "min            -3.000000e-01 -4.803000e+02         -2.500000e+00 -1.250000e+00  \n",
       "25%             3.000000e-01  1.130000e+01          2.500000e+00  0.000000e+00  \n",
       "50%             3.000000e-01  1.469000e+01          2.500000e+00  0.000000e+00  \n",
       "75%             3.000000e-01  2.002000e+01          2.500000e+00  0.000000e+00  \n",
       "max             3.000000e-01  4.010956e+05          2.500000e+00  1.250000e+00  \n",
       "std             4.374741e-02  2.559641e+02          7.432040e-01  3.125554e-01  "
      ]
     },
     "execution_count": 3,
     "metadata": {},
     "output_type": "execute_result"
    }
   ],
   "source": [
    "df1.describe()"
   ]
  },
  {
   "cell_type": "code",
   "execution_count": 4,
   "metadata": {},
   "outputs": [
    {
     "data": {
      "text/html": [
       "<div>\n",
       "<style scoped>\n",
       "    .dataframe tbody tr th:only-of-type {\n",
       "        vertical-align: middle;\n",
       "    }\n",
       "\n",
       "    .dataframe tbody tr th {\n",
       "        vertical-align: top;\n",
       "    }\n",
       "\n",
       "    .dataframe thead th {\n",
       "        text-align: right;\n",
       "    }\n",
       "</style>\n",
       "<table border=\"1\" class=\"dataframe\">\n",
       "  <thead>\n",
       "    <tr style=\"text-align: right;\">\n",
       "      <th></th>\n",
       "      <th>VendorID</th>\n",
       "      <th>tpep_pickup_datetime</th>\n",
       "      <th>tpep_dropoff_datetime</th>\n",
       "      <th>passenger_count</th>\n",
       "      <th>trip_distance</th>\n",
       "      <th>RatecodeID</th>\n",
       "      <th>store_and_fwd_flag</th>\n",
       "      <th>PULocationID</th>\n",
       "      <th>DOLocationID</th>\n",
       "      <th>payment_type</th>\n",
       "      <th>fare_amount</th>\n",
       "      <th>extra</th>\n",
       "      <th>mta_tax</th>\n",
       "      <th>tip_amount</th>\n",
       "      <th>tolls_amount</th>\n",
       "      <th>improvement_surcharge</th>\n",
       "      <th>total_amount</th>\n",
       "      <th>congestion_surcharge</th>\n",
       "      <th>airport_fee</th>\n",
       "    </tr>\n",
       "  </thead>\n",
       "  <tbody>\n",
       "    <tr>\n",
       "      <th>0</th>\n",
       "      <td>1</td>\n",
       "      <td>2022-01-01 00:35:40</td>\n",
       "      <td>2022-01-01 00:53:29</td>\n",
       "      <td>2.0</td>\n",
       "      <td>3.80</td>\n",
       "      <td>1.0</td>\n",
       "      <td>N</td>\n",
       "      <td>142</td>\n",
       "      <td>236</td>\n",
       "      <td>1</td>\n",
       "      <td>14.5</td>\n",
       "      <td>3.0</td>\n",
       "      <td>0.5</td>\n",
       "      <td>3.65</td>\n",
       "      <td>0.0</td>\n",
       "      <td>0.3</td>\n",
       "      <td>21.95</td>\n",
       "      <td>2.5</td>\n",
       "      <td>0.0</td>\n",
       "    </tr>\n",
       "    <tr>\n",
       "      <th>1</th>\n",
       "      <td>1</td>\n",
       "      <td>2022-01-01 00:33:43</td>\n",
       "      <td>2022-01-01 00:42:07</td>\n",
       "      <td>1.0</td>\n",
       "      <td>2.10</td>\n",
       "      <td>1.0</td>\n",
       "      <td>N</td>\n",
       "      <td>236</td>\n",
       "      <td>42</td>\n",
       "      <td>1</td>\n",
       "      <td>8.0</td>\n",
       "      <td>0.5</td>\n",
       "      <td>0.5</td>\n",
       "      <td>4.00</td>\n",
       "      <td>0.0</td>\n",
       "      <td>0.3</td>\n",
       "      <td>13.30</td>\n",
       "      <td>0.0</td>\n",
       "      <td>0.0</td>\n",
       "    </tr>\n",
       "    <tr>\n",
       "      <th>2</th>\n",
       "      <td>2</td>\n",
       "      <td>2022-01-01 00:53:21</td>\n",
       "      <td>2022-01-01 01:02:19</td>\n",
       "      <td>1.0</td>\n",
       "      <td>0.97</td>\n",
       "      <td>1.0</td>\n",
       "      <td>N</td>\n",
       "      <td>166</td>\n",
       "      <td>166</td>\n",
       "      <td>1</td>\n",
       "      <td>7.5</td>\n",
       "      <td>0.5</td>\n",
       "      <td>0.5</td>\n",
       "      <td>1.76</td>\n",
       "      <td>0.0</td>\n",
       "      <td>0.3</td>\n",
       "      <td>10.56</td>\n",
       "      <td>0.0</td>\n",
       "      <td>0.0</td>\n",
       "    </tr>\n",
       "    <tr>\n",
       "      <th>3</th>\n",
       "      <td>2</td>\n",
       "      <td>2022-01-01 00:25:21</td>\n",
       "      <td>2022-01-01 00:35:23</td>\n",
       "      <td>1.0</td>\n",
       "      <td>1.09</td>\n",
       "      <td>1.0</td>\n",
       "      <td>N</td>\n",
       "      <td>114</td>\n",
       "      <td>68</td>\n",
       "      <td>2</td>\n",
       "      <td>8.0</td>\n",
       "      <td>0.5</td>\n",
       "      <td>0.5</td>\n",
       "      <td>0.00</td>\n",
       "      <td>0.0</td>\n",
       "      <td>0.3</td>\n",
       "      <td>11.80</td>\n",
       "      <td>2.5</td>\n",
       "      <td>0.0</td>\n",
       "    </tr>\n",
       "    <tr>\n",
       "      <th>4</th>\n",
       "      <td>2</td>\n",
       "      <td>2022-01-01 00:36:48</td>\n",
       "      <td>2022-01-01 01:14:20</td>\n",
       "      <td>1.0</td>\n",
       "      <td>4.30</td>\n",
       "      <td>1.0</td>\n",
       "      <td>N</td>\n",
       "      <td>68</td>\n",
       "      <td>163</td>\n",
       "      <td>1</td>\n",
       "      <td>23.5</td>\n",
       "      <td>0.5</td>\n",
       "      <td>0.5</td>\n",
       "      <td>3.00</td>\n",
       "      <td>0.0</td>\n",
       "      <td>0.3</td>\n",
       "      <td>30.30</td>\n",
       "      <td>2.5</td>\n",
       "      <td>0.0</td>\n",
       "    </tr>\n",
       "  </tbody>\n",
       "</table>\n",
       "</div>"
      ],
      "text/plain": [
       "   VendorID tpep_pickup_datetime tpep_dropoff_datetime  passenger_count   \n",
       "0         1  2022-01-01 00:35:40   2022-01-01 00:53:29              2.0  \\\n",
       "1         1  2022-01-01 00:33:43   2022-01-01 00:42:07              1.0   \n",
       "2         2  2022-01-01 00:53:21   2022-01-01 01:02:19              1.0   \n",
       "3         2  2022-01-01 00:25:21   2022-01-01 00:35:23              1.0   \n",
       "4         2  2022-01-01 00:36:48   2022-01-01 01:14:20              1.0   \n",
       "\n",
       "   trip_distance  RatecodeID store_and_fwd_flag  PULocationID  DOLocationID   \n",
       "0           3.80         1.0                  N           142           236  \\\n",
       "1           2.10         1.0                  N           236            42   \n",
       "2           0.97         1.0                  N           166           166   \n",
       "3           1.09         1.0                  N           114            68   \n",
       "4           4.30         1.0                  N            68           163   \n",
       "\n",
       "   payment_type  fare_amount  extra  mta_tax  tip_amount  tolls_amount   \n",
       "0             1         14.5    3.0      0.5        3.65           0.0  \\\n",
       "1             1          8.0    0.5      0.5        4.00           0.0   \n",
       "2             1          7.5    0.5      0.5        1.76           0.0   \n",
       "3             2          8.0    0.5      0.5        0.00           0.0   \n",
       "4             1         23.5    0.5      0.5        3.00           0.0   \n",
       "\n",
       "   improvement_surcharge  total_amount  congestion_surcharge  airport_fee  \n",
       "0                    0.3         21.95                   2.5          0.0  \n",
       "1                    0.3         13.30                   0.0          0.0  \n",
       "2                    0.3         10.56                   0.0          0.0  \n",
       "3                    0.3         11.80                   2.5          0.0  \n",
       "4                    0.3         30.30                   2.5          0.0  "
      ]
     },
     "execution_count": 4,
     "metadata": {},
     "output_type": "execute_result"
    }
   ],
   "source": [
    "df1.head()"
   ]
  },
  {
   "cell_type": "code",
   "execution_count": 5,
   "metadata": {},
   "outputs": [
    {
     "name": "stdout",
     "output_type": "stream",
     "text": [
      "<class 'pandas.core.frame.DataFrame'>\n",
      "RangeIndex: 2463931 entries, 0 to 2463930\n",
      "Data columns (total 19 columns):\n",
      " #   Column                 Dtype         \n",
      "---  ------                 -----         \n",
      " 0   VendorID               int64         \n",
      " 1   tpep_pickup_datetime   datetime64[ns]\n",
      " 2   tpep_dropoff_datetime  datetime64[ns]\n",
      " 3   passenger_count        float64       \n",
      " 4   trip_distance          float64       \n",
      " 5   RatecodeID             float64       \n",
      " 6   store_and_fwd_flag     object        \n",
      " 7   PULocationID           int64         \n",
      " 8   DOLocationID           int64         \n",
      " 9   payment_type           int64         \n",
      " 10  fare_amount            float64       \n",
      " 11  extra                  float64       \n",
      " 12  mta_tax                float64       \n",
      " 13  tip_amount             float64       \n",
      " 14  tolls_amount           float64       \n",
      " 15  improvement_surcharge  float64       \n",
      " 16  total_amount           float64       \n",
      " 17  congestion_surcharge   float64       \n",
      " 18  airport_fee            float64       \n",
      "dtypes: datetime64[ns](2), float64(12), int64(4), object(1)\n",
      "memory usage: 357.2+ MB\n"
     ]
    }
   ],
   "source": [
    "df1.info()"
   ]
  },
  {
   "cell_type": "code",
   "execution_count": 10,
   "metadata": {},
   "outputs": [
    {
     "data": {
      "text/plain": [
       "count                      2463931\n",
       "mean     0 days 00:14:12.732175129\n",
       "std      0 days 00:46:26.718308266\n",
       "min              -3 days +14:37:36\n",
       "25%                0 days 00:06:19\n",
       "50%                0 days 00:10:11\n",
       "75%                0 days 00:16:10\n",
       "max                5 days 21:53:11\n",
       "Name: trip_duration, dtype: object"
      ]
     },
     "execution_count": 10,
     "metadata": {},
     "output_type": "execute_result"
    }
   ],
   "source": [
    "#The trip duration in January\n",
    "df1['trip_duration'] = df1['tpep_dropoff_datetime'] - df1['tpep_pickup_datetime']\n",
    "df1['trip_duration'].describe()\n"
   ]
  },
  {
   "cell_type": "code",
   "execution_count": 11,
   "metadata": {},
   "outputs": [
    {
     "data": {
      "text/plain": [
       "count    2.463931e+06\n",
       "mean     1.421220e+01\n",
       "std      4.644531e+01\n",
       "min     -3.442400e+03\n",
       "25%      6.316667e+00\n",
       "50%      1.018333e+01\n",
       "75%      1.616667e+01\n",
       "max      8.513183e+03\n",
       "Name: trip_duration, dtype: float64"
      ]
     },
     "execution_count": 11,
     "metadata": {},
     "output_type": "execute_result"
    }
   ],
   "source": [
    "#Convert the trip duration to minutes\n",
    "df1['trip_duration'] = df1['trip_duration'].dt.total_seconds()/60\n",
    "df1['trip_duration'].describe()"
   ]
  },
  {
   "cell_type": "code",
   "execution_count": 13,
   "metadata": {},
   "outputs": [],
   "source": [
    "#Remove the outliers which are not belong in range between 1 and 60 mins\n",
    "df1_train = df1[(df1['trip_duration'] >= 1) & (df1['trip_duration'] <= 60)]"
   ]
  },
  {
   "cell_type": "code",
   "execution_count": 15,
   "metadata": {},
   "outputs": [
    {
     "data": {
      "text/plain": [
       "98.27547930522405"
      ]
     },
     "execution_count": 15,
     "metadata": {},
     "output_type": "execute_result"
    }
   ],
   "source": [
    "#Percentage of the data that is left\n",
    "df1_train.shape[0]/df1.shape[0]*100"
   ]
  },
  {
   "cell_type": "code",
   "execution_count": 19,
   "metadata": {},
   "outputs": [
    {
     "data": {
      "text/plain": [
       "1674445    1.0\n",
       "2164437    1.0\n",
       "2164436    1.0\n",
       "2435455    1.0\n",
       "858380     1.0\n",
       "Name: trip_duration, dtype: float64"
      ]
     },
     "execution_count": 19,
     "metadata": {},
     "output_type": "execute_result"
    }
   ],
   "source": [
    "df1_train['trip_duration'].sort_values(ascending=False).tail(5)"
   ]
  },
  {
   "cell_type": "code",
   "execution_count": 20,
   "metadata": {},
   "outputs": [
    {
     "data": {
      "text/plain": [
       "2408850    60.0\n",
       "2398726    60.0\n",
       "2406323    60.0\n",
       "975774     60.0\n",
       "2434276    60.0\n",
       "Name: trip_duration, dtype: float64"
      ]
     },
     "execution_count": 20,
     "metadata": {},
     "output_type": "execute_result"
    }
   ],
   "source": [
    "df1_train['trip_duration'].sort_values(ascending=False).head(5)"
   ]
  },
  {
   "cell_type": "code",
   "execution_count": 49,
   "metadata": {},
   "outputs": [
    {
     "data": {
      "text/plain": [
       "DOLocationID    0\n",
       "PULocationID    0\n",
       "dtype: int64"
      ]
     },
     "execution_count": 49,
     "metadata": {},
     "output_type": "execute_result"
    }
   ],
   "source": [
    "#Check missing values\n",
    "df1_train[[\"DOLocationID\",\"PULocationID\"]].isnull().sum()"
   ]
  },
  {
   "cell_type": "code",
   "execution_count": 46,
   "metadata": {},
   "outputs": [
    {
     "data": {
      "text/plain": [
       "(2421440, 515)"
      ]
     },
     "execution_count": 46,
     "metadata": {},
     "output_type": "execute_result"
    }
   ],
   "source": [
    "#Convert two features dataframe to list of dictionary\n",
    "X = df1_train[[\"DOLocationID\",\"PULocationID\"]].astype('str').to_dict(orient='records')\n",
    "\n",
    "#Fit a dictionary vectorizer \n",
    "from sklearn.feature_extraction import DictVectorizer\n",
    "vec = DictVectorizer(sparse=False)\n",
    "X = vec.fit_transform(X)\n",
    "\n",
    "#Check me the shape of X\n",
    "X.shape"
   ]
  },
  {
   "cell_type": "code",
   "execution_count": 50,
   "metadata": {},
   "outputs": [
    {
     "data": {
      "text/plain": [
       "array([17.81666667,  8.4       ,  8.96666667, ..., 11.        ,\n",
       "       12.05      , 27.        ])"
      ]
     },
     "execution_count": 50,
     "metadata": {},
     "output_type": "execute_result"
    }
   ],
   "source": [
    "df1_train['trip_duration'].values"
   ]
  },
  {
   "cell_type": "code",
   "execution_count": 51,
   "metadata": {},
   "outputs": [],
   "source": [
    "#Train a linear regression model\n",
    "X_train = X\n",
    "y_train = df1_train['trip_duration'].values\n"
   ]
  },
  {
   "cell_type": "code",
   "execution_count": 52,
   "metadata": {},
   "outputs": [
    {
     "name": "stdout",
     "output_type": "stream",
     "text": [
      "(2421440, 515)\n",
      "(2421440,)\n"
     ]
    }
   ],
   "source": [
    "print(X_train.shape)\n",
    "print(y_train.shape)\n"
   ]
  },
  {
   "cell_type": "code",
   "execution_count": 53,
   "metadata": {},
   "outputs": [
    {
     "data": {
      "text/html": [
       "<style>#sk-container-id-1 {color: black;background-color: white;}#sk-container-id-1 pre{padding: 0;}#sk-container-id-1 div.sk-toggleable {background-color: white;}#sk-container-id-1 label.sk-toggleable__label {cursor: pointer;display: block;width: 100%;margin-bottom: 0;padding: 0.3em;box-sizing: border-box;text-align: center;}#sk-container-id-1 label.sk-toggleable__label-arrow:before {content: \"▸\";float: left;margin-right: 0.25em;color: #696969;}#sk-container-id-1 label.sk-toggleable__label-arrow:hover:before {color: black;}#sk-container-id-1 div.sk-estimator:hover label.sk-toggleable__label-arrow:before {color: black;}#sk-container-id-1 div.sk-toggleable__content {max-height: 0;max-width: 0;overflow: hidden;text-align: left;background-color: #f0f8ff;}#sk-container-id-1 div.sk-toggleable__content pre {margin: 0.2em;color: black;border-radius: 0.25em;background-color: #f0f8ff;}#sk-container-id-1 input.sk-toggleable__control:checked~div.sk-toggleable__content {max-height: 200px;max-width: 100%;overflow: auto;}#sk-container-id-1 input.sk-toggleable__control:checked~label.sk-toggleable__label-arrow:before {content: \"▾\";}#sk-container-id-1 div.sk-estimator input.sk-toggleable__control:checked~label.sk-toggleable__label {background-color: #d4ebff;}#sk-container-id-1 div.sk-label input.sk-toggleable__control:checked~label.sk-toggleable__label {background-color: #d4ebff;}#sk-container-id-1 input.sk-hidden--visually {border: 0;clip: rect(1px 1px 1px 1px);clip: rect(1px, 1px, 1px, 1px);height: 1px;margin: -1px;overflow: hidden;padding: 0;position: absolute;width: 1px;}#sk-container-id-1 div.sk-estimator {font-family: monospace;background-color: #f0f8ff;border: 1px dotted black;border-radius: 0.25em;box-sizing: border-box;margin-bottom: 0.5em;}#sk-container-id-1 div.sk-estimator:hover {background-color: #d4ebff;}#sk-container-id-1 div.sk-parallel-item::after {content: \"\";width: 100%;border-bottom: 1px solid gray;flex-grow: 1;}#sk-container-id-1 div.sk-label:hover label.sk-toggleable__label {background-color: #d4ebff;}#sk-container-id-1 div.sk-serial::before {content: \"\";position: absolute;border-left: 1px solid gray;box-sizing: border-box;top: 0;bottom: 0;left: 50%;z-index: 0;}#sk-container-id-1 div.sk-serial {display: flex;flex-direction: column;align-items: center;background-color: white;padding-right: 0.2em;padding-left: 0.2em;position: relative;}#sk-container-id-1 div.sk-item {position: relative;z-index: 1;}#sk-container-id-1 div.sk-parallel {display: flex;align-items: stretch;justify-content: center;background-color: white;position: relative;}#sk-container-id-1 div.sk-item::before, #sk-container-id-1 div.sk-parallel-item::before {content: \"\";position: absolute;border-left: 1px solid gray;box-sizing: border-box;top: 0;bottom: 0;left: 50%;z-index: -1;}#sk-container-id-1 div.sk-parallel-item {display: flex;flex-direction: column;z-index: 1;position: relative;background-color: white;}#sk-container-id-1 div.sk-parallel-item:first-child::after {align-self: flex-end;width: 50%;}#sk-container-id-1 div.sk-parallel-item:last-child::after {align-self: flex-start;width: 50%;}#sk-container-id-1 div.sk-parallel-item:only-child::after {width: 0;}#sk-container-id-1 div.sk-dashed-wrapped {border: 1px dashed gray;margin: 0 0.4em 0.5em 0.4em;box-sizing: border-box;padding-bottom: 0.4em;background-color: white;}#sk-container-id-1 div.sk-label label {font-family: monospace;font-weight: bold;display: inline-block;line-height: 1.2em;}#sk-container-id-1 div.sk-label-container {text-align: center;}#sk-container-id-1 div.sk-container {/* jupyter's `normalize.less` sets `[hidden] { display: none; }` but bootstrap.min.css set `[hidden] { display: none !important; }` so we also need the `!important` here to be able to override the default hidden behavior on the sphinx rendered scikit-learn.org. See: https://github.com/scikit-learn/scikit-learn/issues/21755 */display: inline-block !important;position: relative;}#sk-container-id-1 div.sk-text-repr-fallback {display: none;}</style><div id=\"sk-container-id-1\" class=\"sk-top-container\"><div class=\"sk-text-repr-fallback\"><pre>LinearRegression()</pre><b>In a Jupyter environment, please rerun this cell to show the HTML representation or trust the notebook. <br />On GitHub, the HTML representation is unable to render, please try loading this page with nbviewer.org.</b></div><div class=\"sk-container\" hidden><div class=\"sk-item\"><div class=\"sk-estimator sk-toggleable\"><input class=\"sk-toggleable__control sk-hidden--visually\" id=\"sk-estimator-id-1\" type=\"checkbox\" checked><label for=\"sk-estimator-id-1\" class=\"sk-toggleable__label sk-toggleable__label-arrow\">LinearRegression</label><div class=\"sk-toggleable__content\"><pre>LinearRegression()</pre></div></div></div></div></div>"
      ],
      "text/plain": [
       "LinearRegression()"
      ]
     },
     "execution_count": 53,
     "metadata": {},
     "output_type": "execute_result"
    }
   ],
   "source": [
    "lr = LinearRegression()\n",
    "lr.fit(X_train, y_train)\n"
   ]
  },
  {
   "cell_type": "code",
   "execution_count": 55,
   "metadata": {},
   "outputs": [
    {
     "data": {
      "text/plain": [
       "48.80816717484469"
      ]
     },
     "execution_count": 55,
     "metadata": {},
     "output_type": "execute_result"
    }
   ],
   "source": [
    "#Evaluate the model \n",
    "y_pred = lr.predict(X_train)\n",
    "mean_squared_error(y_train, y_pred)"
   ]
  },
  {
   "cell_type": "code",
   "execution_count": 56,
   "metadata": {},
   "outputs": [
    {
     "data": {
      "text/plain": [
       "6.9862842180120825"
      ]
     },
     "execution_count": 56,
     "metadata": {},
     "output_type": "execute_result"
    }
   ],
   "source": [
    "#Calculate the RMSE\n",
    "import numpy as np\n",
    "np.sqrt(mean_squared_error(y_train, y_pred))"
   ]
  },
  {
   "cell_type": "code",
   "execution_count": 63,
   "metadata": {},
   "outputs": [
    {
     "data": {
      "text/plain": [
       "DOLocationID    0\n",
       "PULocationID    0\n",
       "dtype: int64"
      ]
     },
     "execution_count": 63,
     "metadata": {},
     "output_type": "execute_result"
    }
   ],
   "source": [
    "df2[['DOLocationID','PULocationID']].isna().sum()"
   ]
  },
  {
   "cell_type": "code",
   "execution_count": null,
   "metadata": {},
   "outputs": [],
   "source": [
    "#Prepare the validation dataset\n",
    "categorial = ['DOLocationID','PULocationID']\n",
    "\n",
    "def prepare_val(df):\n",
    "    df['trip_duration'] = df['tpep_dropoff_datetime'] - df['tpep_pickup_datetime']\n",
    "    df['trip_duration'] = df['trip_duration'].dt.total_seconds()/60\n",
    "    df = df[(df['trip_duration'] >= 1) & (df['trip_duration'] <= 60)]\n",
    "\n",
    "    df[categorial] = df[categorial].astype('str')\n",
    "\n",
    "    return df\n",
    "\n",
    "#Read the validation dataset\n",
    "df_val = prepare_val(df2)"
   ]
  },
  {
   "cell_type": "code",
   "execution_count": 65,
   "metadata": {},
   "outputs": [],
   "source": [
    "#Convert the validation dataset using the same vectorizer\n",
    "X_val = vec.transform(df_val[categorial].to_dict(orient='records'))\n"
   ]
  },
  {
   "cell_type": "code",
   "execution_count": 66,
   "metadata": {},
   "outputs": [],
   "source": [
    "y_val = df_val['trip_duration'].values"
   ]
  },
  {
   "cell_type": "code",
   "execution_count": 68,
   "metadata": {},
   "outputs": [],
   "source": [
    "#Apply this moldel to the validation dataset by predicting the trip duration for the month of February\n",
    "y_val_pred = lr.predict(X_val)\n"
   ]
  },
  {
   "cell_type": "code",
   "execution_count": 69,
   "metadata": {},
   "outputs": [
    {
     "data": {
      "text/plain": [
       "60.63348352561275"
      ]
     },
     "execution_count": 69,
     "metadata": {},
     "output_type": "execute_result"
    }
   ],
   "source": [
    "mean_squared_error(y_val, y_val_pred)"
   ]
  },
  {
   "cell_type": "code",
   "execution_count": 70,
   "metadata": {},
   "outputs": [
    {
     "data": {
      "text/plain": [
       "7.7867505113245254"
      ]
     },
     "execution_count": 70,
     "metadata": {},
     "output_type": "execute_result"
    }
   ],
   "source": [
    "np.sqrt(mean_squared_error(y_val, y_val_pred))"
   ]
  },
  {
   "cell_type": "code",
   "execution_count": null,
   "metadata": {},
   "outputs": [],
   "source": []
  },
  {
   "cell_type": "code",
   "execution_count": null,
   "metadata": {},
   "outputs": [],
   "source": []
  },
  {
   "cell_type": "code",
   "execution_count": null,
   "metadata": {},
   "outputs": [],
   "source": []
  }
 ],
 "metadata": {
  "kernelspec": {
   "display_name": "ml-env",
   "language": "python",
   "name": "python3"
  },
  "language_info": {
   "codemirror_mode": {
    "name": "ipython",
    "version": 3
   },
   "file_extension": ".py",
   "mimetype": "text/x-python",
   "name": "python",
   "nbconvert_exporter": "python",
   "pygments_lexer": "ipython3",
   "version": "3.10.9"
  },
  "orig_nbformat": 4
 },
 "nbformat": 4,
 "nbformat_minor": 2
}
