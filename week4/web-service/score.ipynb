{
 "cells": [
  {
   "cell_type": "code",
   "execution_count": 11,
   "metadata": {},
   "outputs": [],
   "source": [
    "import pandas as pd\n",
    "import pickle\n",
    "from pathlib import Path"
   ]
  },
  {
   "cell_type": "code",
   "execution_count": 20,
   "metadata": {},
   "outputs": [],
   "source": [
    "year = 2022\n",
    "month = 2\n",
    "taxi_type = 'yellow'\n",
    "\n",
    "input_data = f'https://d37ci6vzurychx.cloudfront.net/trip-data/{taxi_type}_tripdata_{year}-{month:02}.parquet'\n",
    "output_dir = Path('output')\n",
    "output_dir.mkdir(parents=True, exist_ok=True)\n",
    "output_data = output_dir / f'{taxi_type}_tripdata_{year}-{month:02}.parquet'\n",
    "\n",
    "\n",
    "with open('model.bin', 'rb') as f_in:\n",
    "    dv, model = pickle.load(f_in)\n"
   ]
  },
  {
   "cell_type": "code",
   "execution_count": null,
   "metadata": {},
   "outputs": [],
   "source": [
    "# categorical = ['PULocationID', 'DOLocationID']\n",
    "\n",
    "# def read_data(filename):\n",
    "#     df = pd.read_parquet(filename)\n",
    "    \n",
    "#     df['duration'] = df.tpep_dropoff_datetime - df.tpep_pickup_datetime\n",
    "#     df['duration'] = df.duration.dt.total_seconds() / 60\n",
    "\n",
    "#     df = df[(df.duration >= 1) & (df.duration <= 60)].copy()\n",
    "\n",
    "#     df[categorical] = df[categorical].fillna(-1).astype('int').astype('str')\n",
    "\n",
    "#     #Create an artificial ride_id\n",
    "#     df['ride_id'] = f'{year:04d}/{month:02d}_' + df.index.astype('str')\n",
    "    \n",
    "#     return df\n",
    "\n",
    "\n",
    "# def apply_model(input_file, model, output_file):\n",
    "#     df = read_data(input_file)\n",
    "    \n",
    "#     X = dv.transform(df[categorical].to_dict(orient='records'))\n",
    "#     y_pred = model.predict(X)\n",
    "\n",
    "#     df_result = pd.DataFrame()\n",
    "#     df_result['ride_id'] = df.ride_id\n",
    "#     df_result['tpep_pickup_datetime'] = df.tpep_pickup_datetime\n",
    "#     df_result['tpep_dropoff_datetime'] = df.tpep_dropoff_datetime\n",
    "#     df_result['PULocationID'] = df.PULocationID\n",
    "#     df_result['DOLocationID'] = df.DOLocationID\n",
    "#     df_result['actual_duration'] = df.duration\n",
    "#     df_result['prediction_duration'] = y_pred\n",
    "#     df_result['different'] = df_result.prediction_duration - df_result.actual_duration\n",
    "\n",
    "#     # Save the result\n",
    "#     df_result.to_parquet(\n",
    "#         output_file,\n",
    "#         engine='pyarrow',\n",
    "#         compression=None,\n",
    "#         index=False\n",
    "#     )   \n",
    "        \n"
   ]
  },
  {
   "cell_type": "code",
   "execution_count": 27,
   "metadata": {},
   "outputs": [],
   "source": [
    "categorical = ['PULocationID', 'DOLocationID']\n",
    "\n",
    "def read_data(filename):\n",
    "    df = pd.read_parquet(filename)\n",
    "    \n",
    "    df['duration'] = df.tpep_dropoff_datetime - df.tpep_pickup_datetime\n",
    "    df['duration'] = df.duration.dt.total_seconds() / 60\n",
    "\n",
    "    df = df[(df.duration >= 1) & (df.duration <= 60)].copy()\n",
    "\n",
    "    df[categorical] = df[categorical].fillna(-1).astype('int').astype('str')\n",
    "\n",
    "    #Create an artificial ride_id\n",
    "    df['ride_id'] = f'{year:04d}/{month:02d}_' + df.index.astype('str')\n",
    "    \n",
    "    return df\n",
    "\n",
    "\n",
    "def apply_model(input_file, model, output_file):\n",
    "    df = read_data(input_file)\n",
    "    \n",
    "    X = dv.transform(df[categorical].to_dict(orient='records'))\n",
    "    y_pred = model.predict(X)\n",
    "\n",
    "    df_result = pd.DataFrame()\n",
    "    df_result['ride_id'] = df.ride_id\n",
    "    df_result['prediction_duration'] = y_pred\n",
    "\n",
    "\n",
    "    # Save the result\n",
    "    df_result.to_parquet(\n",
    "        output_file,\n",
    "        engine='pyarrow',\n",
    "        compression=None,\n",
    "        index=False\n",
    "    )\n",
    "\n",
    "    return df_result   \n",
    "        \n"
   ]
  },
  {
   "cell_type": "code",
   "execution_count": 28,
   "metadata": {},
   "outputs": [],
   "source": [
    "result = apply_model(input_data, model, output_data) # 1.5 min\n"
   ]
  },
  {
   "cell_type": "code",
   "execution_count": 29,
   "metadata": {},
   "outputs": [
    {
     "data": {
      "text/html": [
       "<div>\n",
       "<style scoped>\n",
       "    .dataframe tbody tr th:only-of-type {\n",
       "        vertical-align: middle;\n",
       "    }\n",
       "\n",
       "    .dataframe tbody tr th {\n",
       "        vertical-align: top;\n",
       "    }\n",
       "\n",
       "    .dataframe thead th {\n",
       "        text-align: right;\n",
       "    }\n",
       "</style>\n",
       "<table border=\"1\" class=\"dataframe\">\n",
       "  <thead>\n",
       "    <tr style=\"text-align: right;\">\n",
       "      <th></th>\n",
       "      <th>ride_id</th>\n",
       "      <th>prediction_duration</th>\n",
       "    </tr>\n",
       "  </thead>\n",
       "  <tbody>\n",
       "    <tr>\n",
       "      <th>0</th>\n",
       "      <td>2022/02_0</td>\n",
       "      <td>18.527783</td>\n",
       "    </tr>\n",
       "    <tr>\n",
       "      <th>1</th>\n",
       "      <td>2022/02_1</td>\n",
       "      <td>23.065782</td>\n",
       "    </tr>\n",
       "    <tr>\n",
       "      <th>2</th>\n",
       "      <td>2022/02_2</td>\n",
       "      <td>33.686359</td>\n",
       "    </tr>\n",
       "    <tr>\n",
       "      <th>3</th>\n",
       "      <td>2022/02_3</td>\n",
       "      <td>23.757436</td>\n",
       "    </tr>\n",
       "    <tr>\n",
       "      <th>4</th>\n",
       "      <td>2022/02_4</td>\n",
       "      <td>21.492904</td>\n",
       "    </tr>\n",
       "  </tbody>\n",
       "</table>\n",
       "</div>"
      ],
      "text/plain": [
       "     ride_id  prediction_duration\n",
       "0  2022/02_0            18.527783\n",
       "1  2022/02_1            23.065782\n",
       "2  2022/02_2            33.686359\n",
       "3  2022/02_3            23.757436\n",
       "4  2022/02_4            21.492904"
      ]
     },
     "execution_count": 29,
     "metadata": {},
     "output_type": "execute_result"
    }
   ],
   "source": [
    "result.head()"
   ]
  },
  {
   "cell_type": "code",
   "execution_count": 30,
   "metadata": {},
   "outputs": [
    {
     "name": "stdout",
     "output_type": "stream",
     "text": [
      "total 188M\n",
      "-rw-r--r-- 1 Trung 197121  58M Jun 17 20:24 yellow_tripdata_2022-02.parquet\n",
      "-rw-r--r-- 1 Trung 197121 131M Jun 17 17:33 yellow_tripdata_2023-02.parquet\n"
     ]
    }
   ],
   "source": [
    "!ls -lh output/"
   ]
  },
  {
   "cell_type": "code",
   "execution_count": 31,
   "metadata": {},
   "outputs": [
    {
     "data": {
      "text/plain": [
       "12.758556818790902"
      ]
     },
     "execution_count": 31,
     "metadata": {},
     "output_type": "execute_result"
    }
   ],
   "source": [
    "result_march = pd.read_parquet('output/yellow_tripdata_2022-03.parquet')\n",
    "result_march.prediction_duration.mean()"
   ]
  },
  {
   "attachments": {},
   "cell_type": "markdown",
   "metadata": {},
   "source": [
    "### Command to convert ipynb to py\n",
    "- **pip install nbconvert**\n",
    "- **jupyter nbconvert --to script score.ipynb**\n"
   ]
  }
 ],
 "metadata": {
  "kernelspec": {
   "display_name": "ml-env",
   "language": "python",
   "name": "python3"
  },
  "language_info": {
   "codemirror_mode": {
    "name": "ipython",
    "version": 3
   },
   "file_extension": ".py",
   "mimetype": "text/x-python",
   "name": "python",
   "nbconvert_exporter": "python",
   "pygments_lexer": "ipython3",
   "version": "3.10.9"
  },
  "orig_nbformat": 4
 },
 "nbformat": 4,
 "nbformat_minor": 2
}
