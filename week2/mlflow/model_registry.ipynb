{
 "cells": [
  {
   "cell_type": "code",
   "execution_count": 1,
   "metadata": {},
   "outputs": [],
   "source": [
    "import os\n",
    "import pickle\n",
    "import click\n",
    "import mlflow\n",
    "\n",
    "from mlflow.entities import ViewType\n",
    "from mlflow.tracking import MlflowClient\n",
    "from sklearn.ensemble import RandomForestRegressor\n",
    "from sklearn.metrics import mean_squared_error"
   ]
  },
  {
   "cell_type": "code",
   "execution_count": 11,
   "metadata": {},
   "outputs": [],
   "source": [
    "mlflow.set_tracking_uri(\"sqlite:///mlflow.db\")"
   ]
  },
  {
   "cell_type": "code",
   "execution_count": 24,
   "metadata": {},
   "outputs": [],
   "source": [
    "from pprint import pprint"
   ]
  },
  {
   "cell_type": "code",
   "execution_count": 25,
   "metadata": {},
   "outputs": [
    {
     "name": "stdout",
     "output_type": "stream",
     "text": [
      "{   'aliases': {},\n",
      "    'creation_timestamp': 1685433727335,\n",
      "    'description': 'Experiment-time 1',\n",
      "    'last_updated_timestamp': 1685438746143,\n",
      "    'latest_versions': [   <ModelVersion: aliases=[], creation_timestamp=1685433791826, current_stage='Staging', description='', last_updated_timestamp=1685437469002, name='ny-taxi-experiment', run_id='a2ce49f262a54d53b1f780249bfbc411', run_link='', source='mlflow-artifacts:/4/a2ce49f262a54d53b1f780249bfbc411/artifacts/rf-model-2', status='READY', status_message=None, tags={}, user_id=None, version=2>,\n",
      "                           <ModelVersion: aliases=[], creation_timestamp=1685438746143, current_stage='None', description='', last_updated_timestamp=1685438746143, name='ny-taxi-experiment', run_id='394a29e2f3474eb7b510b8a723be6b31', run_link='', source='mlflow-artifacts:/4/394a29e2f3474eb7b510b8a723be6b31/artifacts/rf-model-2', status='READY', status_message=None, tags={}, user_id=None, version=3>],\n",
      "    'name': 'ny-taxi-experiment',\n",
      "    'tags': {}}\n"
     ]
    }
   ],
   "source": [
    "mlflow_tracking_uri = \"sqlite:///mlflow.db\"\n",
    "\n",
    "client = MlflowClient(tracking_uri=mlflow_tracking_uri)\n",
    "\n",
    "for rm in client.search_registered_models():\n",
    "    pprint(dict(rm), indent=4)\n"
   ]
  },
  {
   "cell_type": "code",
   "execution_count": 23,
   "metadata": {},
   "outputs": [
    {
     "ename": "AttributeError",
     "evalue": "'MlflowClient' object has no attribute 'list_experiments'",
     "output_type": "error",
     "traceback": [
      "\u001b[1;31m---------------------------------------------------------------------------\u001b[0m",
      "\u001b[1;31mAttributeError\u001b[0m                            Traceback (most recent call last)",
      "Cell \u001b[1;32mIn[23], line 1\u001b[0m\n\u001b[1;32m----> 1\u001b[0m experiments \u001b[39m=\u001b[39m client\u001b[39m.\u001b[39;49mlist_experiments()\n\u001b[0;32m      3\u001b[0m \u001b[39mfor\u001b[39;00m experiment \u001b[39min\u001b[39;00m experiments:\n\u001b[0;32m      4\u001b[0m     \u001b[39mprint\u001b[39m(experiment\u001b[39m.\u001b[39mexperiment_id, experiment\u001b[39m.\u001b[39mname)\n",
      "\u001b[1;31mAttributeError\u001b[0m: 'MlflowClient' object has no attribute 'list_experiments'"
     ]
    }
   ],
   "source": [
    "client."
   ]
  },
  {
   "cell_type": "code",
   "execution_count": 22,
   "metadata": {},
   "outputs": [],
   "source": [
    "test"
   ]
  },
  {
   "cell_type": "code",
   "execution_count": null,
   "metadata": {},
   "outputs": [],
   "source": []
  }
 ],
 "metadata": {
  "kernelspec": {
   "display_name": "ml-env",
   "language": "python",
   "name": "python3"
  },
  "language_info": {
   "codemirror_mode": {
    "name": "ipython",
    "version": 3
   },
   "file_extension": ".py",
   "mimetype": "text/x-python",
   "name": "python",
   "nbconvert_exporter": "python",
   "pygments_lexer": "ipython3",
   "version": "3.10.9"
  },
  "orig_nbformat": 4
 },
 "nbformat": 4,
 "nbformat_minor": 2
}
